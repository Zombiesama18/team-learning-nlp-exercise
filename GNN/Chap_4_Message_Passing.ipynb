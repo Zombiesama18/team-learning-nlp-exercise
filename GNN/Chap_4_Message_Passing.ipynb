{
 "cells": [
  {
   "cell_type": "code",
   "execution_count": 1,
   "metadata": {
    "ExecuteTime": {
     "end_time": "2023-12-04T06:52:54.569052424Z",
     "start_time": "2023-12-04T06:52:51.572078451Z"
    },
    "collapsed": true
   },
   "outputs": [],
   "source": [
    "from typing import Any\n",
    "\n",
    "import torch\n",
    "from torch import Tensor\n",
    "from torch_geometric.utils import add_self_loops, degree\n",
    "from torch_geometric.nn import MessagePassing\n",
    "from torch_geometric.datasets import Planetoid"
   ]
  },
  {
   "cell_type": "code",
   "execution_count": 2,
   "metadata": {
    "ExecuteTime": {
     "end_time": "2023-12-04T06:53:07.680153851Z",
     "start_time": "2023-12-04T06:53:07.655628660Z"
    },
    "collapsed": false
   },
   "outputs": [],
   "source": [
    "class GCNConv(MessagePassing):\n",
    "    def __init__(self, in_channels, out_channels):\n",
    "        super(GCNConv, self).__init__(aggr='add', flow='source_to_target')  # 'Add' aggregation. 消息冲源节点到目标节点\n",
    "        self.linear = torch.nn.Linear(in_channels, out_channels)\n",
    "    \n",
    "    def forward(self, x, edge_index) -> Any:\n",
    "        \"\"\"\n",
    "        :param x in shape of [N, in_channels] \n",
    "        :param edge_index in shape of [2, E]\n",
    "        :return: \n",
    "        \"\"\"\n",
    "        # Step-1: Add self-loops to the adjacency matrix\n",
    "        edge_index, _ = add_self_loops(edge_index, num_nodes=x.size(0))\n",
    "        # Step-2: Linearly transform node feature matrix\n",
    "        x = self.linear(x)\n",
    "        # Step-3: Compute normalization\n",
    "        row, col = edge_index\n",
    "        deg = degree(col, x.size(0), dtype=x.dtype)\n",
    "        deg_inv_sqrt = deg.pow(-0.5)\n",
    "        norm = deg_inv_sqrt[row] * deg_inv_sqrt[col]\n",
    "        # Step-4, Step-5: Start propagating messages\n",
    "        return self.propagate(edge_index, x=x, norm=norm, deg=deg.view(-1, 1))\n",
    "    \n",
    "    def message(self, x_j, norm, deg_i) -> Tensor:\n",
    "        \"\"\"\n",
    "        :param x_j in shape of [E, out_channels]\n",
    "        :param norm: \n",
    "        :return: \n",
    "        \"\"\"\n",
    "        # Step-4: Normalize node features\n",
    "        return norm.view(-1, 1) * x_j * deg_i\n",
    "        "
   ]
  },
  {
   "cell_type": "code",
   "execution_count": 28,
   "metadata": {
    "ExecuteTime": {
     "end_time": "2023-12-04T06:53:08.300646796Z",
     "start_time": "2023-12-04T06:53:08.283163472Z"
    },
    "collapsed": false
   },
   "outputs": [
    {
     "name": "stdout",
     "output_type": "stream",
     "text": [
      "torch.Size([2708, 64])\n"
     ]
    }
   ],
   "source": [
    "dataset = Planetoid(root='../datasets/Planetoid', name='Cora')\n",
    "data = dataset[0]\n",
    "net = GCNConv(data.num_features, 64)\n",
    "h_nodes = net(data.x, data.edge_index)\n",
    "print(h_nodes.shape)\n",
    "\n"
   ]
  },
  {
   "cell_type": "code",
   "execution_count": 19,
   "metadata": {
    "collapsed": false
   },
   "outputs": [],
   "source": [
    "deg = degree(data.edge_index[1], data.x.size(0))\n",
    "deg = deg.pow(-0.5)"
   ]
  },
  {
   "cell_type": "code",
   "execution_count": 26,
   "metadata": {},
   "outputs": [],
   "source": [
    "norm = deg[data.edge_index[0]] * deg[data.edge_index[1]]"
   ]
  },
  {
   "cell_type": "code",
   "execution_count": 27,
   "metadata": {},
   "outputs": [
    {
     "data": {
      "text/plain": [
       "torch.Size([10556])"
      ]
     },
     "execution_count": 27,
     "metadata": {},
     "output_type": "execute_result"
    }
   ],
   "source": [
    "norm.shape"
   ]
  }
 ],
 "metadata": {
  "kernelspec": {
   "display_name": "Python 3",
   "language": "python",
   "name": "python3"
  },
  "language_info": {
   "codemirror_mode": {
    "name": "ipython",
    "version": 3
   },
   "file_extension": ".py",
   "mimetype": "text/x-python",
   "name": "python",
   "nbconvert_exporter": "python",
   "pygments_lexer": "ipython3",
   "version": "3.11.5"
  }
 },
 "nbformat": 4,
 "nbformat_minor": 0
}
